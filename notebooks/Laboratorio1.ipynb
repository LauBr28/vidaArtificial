{
 "cells": [
  {
   "cell_type": "code",
   "execution_count": null,
   "id": "68c54525-11d1-4299-86fc-d1c314313b0d",
   "metadata": {},
   "outputs": [],
   "source": [
    "#Laura Sofia Medina\n",
    "#Laura Alejandra Barrera "
   ]
  },
  {
   "cell_type": "code",
   "execution_count": 1,
   "id": "965d4069-5dd5-4ac9-b642-7b20e07345e1",
   "metadata": {},
   "outputs": [],
   "source": [
    "!pip install datasets evaluate transformers[sentencepiece] --quiet\n"
   ]
  },
  {
   "cell_type": "code",
   "execution_count": 2,
   "id": "e80a9343-b1e0-43fa-ae35-c56a9dfa4568",
   "metadata": {},
   "outputs": [],
   "source": [
    "!pip install torch torchvision torchaudio --index-url https://download.pytorch.org/whl/cpu --quiet\n"
   ]
  },
  {
   "cell_type": "code",
   "execution_count": 3,
   "id": "ce45c40c-3378-4021-8e56-f3f9568a49b0",
   "metadata": {},
   "outputs": [],
   "source": [
    "import torch\n",
    "from transformers import pipeline"
   ]
  },
  {
   "cell_type": "code",
   "execution_count": 4,
   "id": "8b9a15fe-8cf0-464b-b874-3af75a7da430",
   "metadata": {},
   "outputs": [],
   "source": [
    "#Análisis de Sentimientos"
   ]
  },
  {
   "cell_type": "code",
   "execution_count": 26,
   "id": "e8e9c026-d5f8-474a-9079-22a51b7da27f",
   "metadata": {},
   "outputs": [
    {
     "name": "stderr",
     "output_type": "stream",
     "text": [
      "Device set to use cpu\n"
     ]
    },
    {
     "name": "stdout",
     "output_type": "stream",
     "text": [
      "[{'label': 'POS', 'score': 0.9774495363235474}]\n"
     ]
    }
   ],
   "source": [
    "classifier = pipeline(\"sentiment-analysis\", model=\"pysentimiento/robertuito-sentiment-analysis\")\n",
    "\n",
    "resultado = classifier(\"Me encanta el clima soleado de hoy.\")\n",
    "print(resultado)"
   ]
  },
  {
   "cell_type": "code",
   "execution_count": 27,
   "id": "bb5a1872-45be-48c5-8fe1-bcba7559e233",
   "metadata": {},
   "outputs": [
    {
     "name": "stdout",
     "output_type": "stream",
     "text": [
      "[{'label': 'NEG', 'score': 0.9755050539970398}]\n"
     ]
    }
   ],
   "source": [
    "resultado = classifier(\"Este servicio es terrible, no lo recomiendo.\")\n",
    "print(resultado)"
   ]
  },
  {
   "cell_type": "code",
   "execution_count": 28,
   "id": "acdb8b5e-6e54-42c6-b373-3d0bcefcecc6",
   "metadata": {},
   "outputs": [
    {
     "name": "stdout",
     "output_type": "stream",
     "text": [
      "[{'label': 'NEU', 'score': 0.8635683655738831}]\n"
     ]
    }
   ],
   "source": [
    "resultado = classifier(\"El informe se entregará mañana.\")\n",
    "print(resultado)"
   ]
  },
  {
   "cell_type": "code",
   "execution_count": 7,
   "id": "faedeeff-e04a-4f10-993f-07a05b3359e5",
   "metadata": {},
   "outputs": [],
   "source": [
    "#Zero-Shot Classification (Clasificación de texto en categorías)"
   ]
  },
  {
   "cell_type": "code",
   "execution_count": 25,
   "id": "d7809bfd-fb9a-47b1-bd4b-a759776b6803",
   "metadata": {},
   "outputs": [
    {
     "name": "stderr",
     "output_type": "stream",
     "text": [
      "Device set to use cpu\n"
     ]
    },
    {
     "name": "stdout",
     "output_type": "stream",
     "text": [
      "{'sequence': 'El cambio climático es un problema global que requiere acciones inmediatas.', 'labels': ['medio ambiente', 'tecnología', 'salud'], 'scores': [0.9568902850151062, 0.022192124277353287, 0.020917586982250214]}\n"
     ]
    }
   ],
   "source": [
    "classifier = pipeline(\"zero-shot-classification\", model=\"facebook/bart-large-mnli\")\n",
    "\n",
    "resultado = classifier(\n",
    "    \"El cambio climático es un problema global que requiere acciones inmediatas.\",\n",
    "    candidate_labels=[\"medio ambiente\", \"tecnología\", \"salud\"],\n",
    "    hypothesis_template=\"Este texto trata sobre {}.\"\n",
    ")\n",
    "print(resultado)"
   ]
  },
  {
   "cell_type": "code",
   "execution_count": 9,
   "id": "9ed8375d-0ff5-4a15-94fa-e231006dc19e",
   "metadata": {},
   "outputs": [],
   "source": [
    "#Generación de texto "
   ]
  },
  {
   "cell_type": "code",
   "execution_count": 33,
   "id": "5fc6811b-299f-48b6-8e36-79dca3411edd",
   "metadata": {},
   "outputs": [
    {
     "name": "stderr",
     "output_type": "stream",
     "text": [
      "Device set to use cpu\n",
      "Truncation was not explicitly activated but `max_length` is provided a specific value, please use `truncation=True` to explicitly truncate examples to max length. Defaulting to 'longest_first' truncation strategy. If you encode pairs of sequences (GLUE-style) with the tokenizer you can select this strategy more precisely by providing a specific strategy to `truncation`.\n"
     ]
    },
    {
     "name": "stdout",
     "output_type": "stream",
     "text": [
      "[{'generated_text': 'En este curso aprenderás sobre inteligencia artificial que todo eso te pertenece, te lo prometo, pero no es así. Cuando seas profesora, podrás aprender a elegir, a elegir, a elegir. \\n\\nEn ese momento, a lo primero de la tarde'}, {'generated_text': 'En este curso aprenderás sobre inteligencia artificial. En este momento te explicaré de dónde es el cerebro, porque así lo conocerás. En este mundo, el cerebro es el órgano del deseo y el sentimiento. Pero si ese sentido tiene su origen en algo'}]\n"
     ]
    }
   ],
   "source": [
    "generator = pipeline(\"text-generation\", model=\"DeepESP/gpt2-spanish\")\n",
    "\n",
    "resultado = generator(\n",
    "    \"En este curso aprenderás sobre inteligencia artificial\",\n",
    "    max_length=50,\n",
    "    num_return_sequences=2\n",
    ")\n",
    "\n",
    "print(resultado)"
   ]
  },
  {
   "cell_type": "code",
   "execution_count": 34,
   "id": "453e7b92-2ad7-4a1a-abb4-503bd65b071d",
   "metadata": {},
   "outputs": [
    {
     "name": "stdout",
     "output_type": "stream",
     "text": [
      "[{'generated_text': 'La inteligencia artificial está transformando a los humanos y a las civilizaciones primitivas. \\n\\nLos genes en nuestro entorno se basan no en la inteligencia artificial: en particular, la población individual. \\n\\nLos ordenadores no se basan únicamente en los ordenadores humanos y se'}, {'generated_text': 'La inteligencia artificial está transformando en energía y energía de una única persona de la cual todo es real, sin importar cuán profundamente haya en él y los efectos que ello sea. Cada segundo en que una persona se da cuenta de que ha sido destruida, la'}]\n"
     ]
    }
   ],
   "source": [
    "resultado = generator(\n",
    "    \"La inteligencia artificial está transformando\",\n",
    "    max_length=50,\n",
    "    num_return_sequences=2\n",
    ")\n",
    "print(resultado)"
   ]
  },
  {
   "cell_type": "code",
   "execution_count": 35,
   "id": "93ef5348-96dd-4e65-bbde-3bb8de6c47cb",
   "metadata": {},
   "outputs": [
    {
     "name": "stdout",
     "output_type": "stream",
     "text": [
      "[{'generated_text': 'En el futuro, los robots podrán volver a la nave y volver a conectar el ordenador. \\n\\n—Muy bien. \\n\\n—Adiós, señora McFatey. \\n\\n—Adiós, Robert, Adiós. Adiós, señora McFate'}, {'generated_text': 'En el futuro, los robots podrán controlarte, pero si estás con la mujer, entonces será tu destino. \\n\\n—¿Cómo? —murmuró. \\n\\n—Lo mejor es que, a pesar de todo, tengáis razón. \\n\\n*'}]\n"
     ]
    }
   ],
   "source": [
    "resultado = generator(\n",
    "    \"En el futuro, los robots podrán\",\n",
    "    max_length=50,\n",
    "    num_return_sequences=2\n",
    ")\n",
    "print(resultado)"
   ]
  },
  {
   "cell_type": "code",
   "execution_count": 7,
   "id": "78368ad0-70a0-4990-9b4a-d2e90a2437fc",
   "metadata": {},
   "outputs": [
    {
     "name": "stderr",
     "output_type": "stream",
     "text": [
      "Device set to use cpu\n"
     ]
    },
    {
     "name": "stdout",
     "output_type": "stream",
     "text": [
      "[{'generated_text': 'En este curso aprenderás sobre inteligencia artificial, y cómo aprenderás sobre las \"realidad mental\" cuando estas nuevas creencias te la hagan. Las creencias no serán nunca usadas por hombres como la \"vida libre\" o la \"realidad humana\". Por'}]\n"
     ]
    }
   ],
   "source": [
    "generator = pipeline(\"text-generation\", model=\"DeepESP/gpt2-spanish\")\n",
    "\n",
    "resultado = generator(\n",
    "    \"En este curso aprenderás sobre inteligencia artificial\",\n",
    ")\n",
    "print(resultado)"
   ]
  },
  {
   "cell_type": "code",
   "execution_count": 12,
   "id": "d1435936-5ab0-427f-9522-693f1c62ff33",
   "metadata": {},
   "outputs": [],
   "source": [
    "#Completar el texto con la palabra más probable (Fill-Mask)"
   ]
  },
  {
   "cell_type": "code",
   "execution_count": 36,
   "id": "f9e7b1db-22cb-4f7f-903f-784fae9e8685",
   "metadata": {},
   "outputs": [
    {
     "name": "stderr",
     "output_type": "stream",
     "text": [
      "Device set to use cpu\n"
     ]
    },
    {
     "name": "stdout",
     "output_type": "stream",
     "text": [
      "[{'score': 0.08100215345621109, 'token': 3792, 'token_str': 'sociales', 'sequence': 'Este curso enseña sobre modelos sociales.'}, {'score': 0.06293947249650955, 'token': 6156, 'token_str': 'económicos', 'sequence': 'Este curso enseña sobre modelos económicos.'}, {'score': 0.027612948790192604, 'token': 3, 'token_str': '[UNK]', 'sequence': 'Este curso enseña sobre modelos.'}]\n"
     ]
    }
   ],
   "source": [
    "unmasker = pipeline(\"fill-mask\", model=\"dccuchile/bert-base-spanish-wwm-cased\")\n",
    "\n",
    "resultado = unmasker(\"Este curso enseña sobre modelos [MASK].\", top_k=3)\n",
    "\n",
    "print(resultado)"
   ]
  },
  {
   "cell_type": "code",
   "execution_count": 37,
   "id": "fa939607-1fd6-425c-a2cf-732f16b94a36",
   "metadata": {},
   "outputs": [
    {
     "name": "stdout",
     "output_type": "stream",
     "text": [
      "[{'score': 0.19103224575519562, 'token': 22339, 'token_str': 'húmedo', 'sequence': 'El clima en la montaña es muy húmedo.'}, {'score': 0.1390262395143509, 'token': 7789, 'token_str': 'agradable', 'sequence': 'El clima en la montaña es muy agradable.'}, {'score': 0.12316220253705978, 'token': 7286, 'token_str': 'frío', 'sequence': 'El clima en la montaña es muy frío.'}]\n"
     ]
    }
   ],
   "source": [
    "resultado = unmasker(\"El clima en la montaña es muy [MASK].\", top_k=3)\n",
    "print(resultado)"
   ]
  },
  {
   "cell_type": "code",
   "execution_count": 38,
   "id": "4b9eef17-6e17-46c2-a5ba-0cc83a533239",
   "metadata": {},
   "outputs": [
    {
     "name": "stdout",
     "output_type": "stream",
     "text": [
      "[{'score': 0.7116380333900452, 'token': 9823, 'token_str': 'cálculo', 'sequence': 'El cálculo es una rama de las matemáticas.'}, {'score': 0.06353506445884705, 'token': 4266, 'token_str': 'análisis', 'sequence': 'El análisis es una rama de las matemáticas.'}, {'score': 0.03623092547059059, 'token': 21403, 'token_str': 'cómputo', 'sequence': 'El cómputo es una rama de las matemáticas.'}]\n"
     ]
    }
   ],
   "source": [
    "resultado = unmasker(\"El [MASK] es una rama de las matemáticas.\", top_k=3)\n",
    "print(resultado)"
   ]
  },
  {
   "cell_type": "code",
   "execution_count": 14,
   "id": "c2b5b417-5bd6-48b7-acb9-8909e7505a1f",
   "metadata": {},
   "outputs": [],
   "source": [
    "#Identificar nombres propios en un texto (Entidades) "
   ]
  },
  {
   "cell_type": "code",
   "execution_count": 39,
   "id": "ea25c014-6944-4dbe-92cb-af2c823938c9",
   "metadata": {},
   "outputs": [
    {
     "name": "stderr",
     "output_type": "stream",
     "text": [
      "Some weights of the model checkpoint at mrm8488/bert-spanish-cased-finetuned-ner were not used when initializing BertForTokenClassification: ['bert.pooler.dense.bias', 'bert.pooler.dense.weight']\n",
      "- This IS expected if you are initializing BertForTokenClassification from the checkpoint of a model trained on another task or with another architecture (e.g. initializing a BertForSequenceClassification model from a BertForPreTraining model).\n",
      "- This IS NOT expected if you are initializing BertForTokenClassification from the checkpoint of a model that you expect to be exactly identical (initializing a BertForSequenceClassification model from a BertForSequenceClassification model).\n",
      "Device set to use cpu\n",
      "Asking to truncate to max_length but no maximum length is provided and the model has no predefined maximum length. Default to no truncation.\n"
     ]
    },
    {
     "name": "stdout",
     "output_type": "stream",
     "text": [
      "[{'entity_group': 'PER', 'score': np.float32(0.9989525), 'word': 'Pedro', 'start': 9, 'end': 14}, {'entity_group': 'ORG', 'score': np.float32(0.90264404), 'word': 'Telefónica', 'start': 28, 'end': 38}, {'entity_group': 'LOC', 'score': np.float32(0.9998223), 'word': 'Madrid', 'start': 42, 'end': 48}]\n"
     ]
    }
   ],
   "source": [
    "ner = pipeline(\"ner\", model=\"mrm8488/bert-spanish-cased-finetuned-ner\", grouped_entities=True)\n",
    "resultado = ner(\"Me llamo Pedro y trabajo en Telefónica en Madrid.\")\n",
    "print(resultado)"
   ]
  },
  {
   "cell_type": "code",
   "execution_count": 40,
   "id": "db0da9d8-2aa9-43d4-ad0d-4929499051b8",
   "metadata": {},
   "outputs": [
    {
     "name": "stdout",
     "output_type": "stream",
     "text": [
      "[{'entity_group': 'ORG', 'score': np.float32(0.99937135), 'word': 'Google', 'start': 0, 'end': 6}]\n"
     ]
    }
   ],
   "source": [
    "resultado = ner(\"Google anunció una nueva actualización de su sistema operativo.\")\n",
    "print(resultado)"
   ]
  },
  {
   "cell_type": "code",
   "execution_count": 41,
   "id": "1f5d3a84-7a91-4d60-b431-a8efc7aa34fd",
   "metadata": {},
   "outputs": [
    {
     "name": "stdout",
     "output_type": "stream",
     "text": [
      "[{'entity_group': 'MISC', 'score': np.float32(0.9958806), 'word': 'Segunda Guerra Mundial', 'start': 3, 'end': 25}]\n"
     ]
    }
   ],
   "source": [
    "resultado = ner(\"La Segunda Guerra Mundial terminó en 1945.\")\n",
    "print(resultado)"
   ]
  },
  {
   "cell_type": "code",
   "execution_count": 17,
   "id": "626ccd51-6143-4c99-9c0f-0acc6dc9cdeb",
   "metadata": {},
   "outputs": [],
   "source": [
    "#Extraer respuestas a preguntas en un contexto dado (Question Answering)"
   ]
  },
  {
   "cell_type": "code",
   "execution_count": 42,
   "id": "c7159d99-155d-42b5-9ffa-467f2c3ab954",
   "metadata": {},
   "outputs": [
    {
     "name": "stderr",
     "output_type": "stream",
     "text": [
      "Device set to use cpu\n"
     ]
    },
    {
     "name": "stdout",
     "output_type": "stream",
     "text": [
      "{'score': 0.9999936819076538, 'start': 44, 'end': 49, 'answer': 'París'}\n"
     ]
    }
   ],
   "source": [
    "qa = pipeline(\"question-answering\", model=\"PlanTL-GOB-ES/roberta-large-bne-sqac\")\n",
    "\n",
    "resultado = qa(\n",
    "    question=\"¿Cuál es la capital de Francia?\",\n",
    "    context=\"Francia es un país de Europa. Su capital es París.\"\n",
    ")\n",
    "print(resultado)"
   ]
  },
  {
   "cell_type": "code",
   "execution_count": 43,
   "id": "cf5c3bef-32b1-4b7a-a7ff-181989be5be8",
   "metadata": {},
   "outputs": [
    {
     "name": "stdout",
     "output_type": "stream",
     "text": [
      "{'score': 0.9096104502677917, 'start': 19, 'end': 26, 'answer': 'en 1998'}\n"
     ]
    }
   ],
   "source": [
    "resultado = qa(\n",
    "    question=\"¿Cuándo se fundó Google?\",\n",
    "    context=\"Google fue fundado en 1998 por Larry Page y Sergey Brin. Es una de las empresas más importantes del mundo.\"\n",
    ")\n",
    "print(resultado)"
   ]
  },
  {
   "cell_type": "code",
   "execution_count": 48,
   "id": "b8b3b901-6543-45a9-ab97-99ecd0c3fa47",
   "metadata": {},
   "outputs": [
    {
     "name": "stdout",
     "output_type": "stream",
     "text": [
      "{'score': 0.998665452003479, 'start': 14, 'end': 18, 'answer': '1990'}\n"
     ]
    }
   ],
   "source": [
    "resultado = qa(\n",
    "    question=\"¿Qué edad tiene Juan?\",\n",
    "    context=\"Juan nació en 1990. Hoy es el año 2025.\"\n",
    ")\n",
    "print(resultado)"
   ]
  },
  {
   "cell_type": "code",
   "execution_count": 19,
   "id": "b2c2f7e6-afc4-4259-828f-521b99cfcf40",
   "metadata": {},
   "outputs": [],
   "source": [
    "#Resumen de Texto"
   ]
  },
  {
   "cell_type": "code",
   "execution_count": 50,
   "id": "15e89ef8-1673-4b19-bcc9-032d025f63ba",
   "metadata": {},
   "outputs": [
    {
     "name": "stderr",
     "output_type": "stream",
     "text": [
      "Device set to use cpu\n"
     ]
    },
    {
     "name": "stdout",
     "output_type": "stream",
     "text": [
      "[{'summary_text': 'La inteligencia artificial (IA) está transformando rápidamente el mundo en el que vivimos.'}]\n"
     ]
    }
   ],
   "source": [
    "summarizer = pipeline(\"summarization\", model=\"csebuetnlp/mT5_multilingual_XLSum\")\n",
    "\n",
    "texto = \"\"\"\n",
    "La inteligencia artificial (IA) está transformando rápidamente el mundo en el que vivimos. \n",
    "En el sector salud, los algoritmos de IA permiten diagnósticos más precisos y tratamientos personalizados.\n",
    "Por ejemplo, sistemas de aprendizaje profundo analizan imágenes médicas para detectar enfermedades como el cáncer en etapas tempranas.\n",
    "\n",
    "En el ámbito educativo, plataformas adaptativas utilizan IA para personalizar el aprendizaje según las necesidades de cada estudiante, mejorando su rendimiento académico.\n",
    "En el transporte, los vehículos autónomos impulsados por IA prometen reducir los accidentes de tráfico y optimizar el flujo del tráfico. \n",
    "Empresas como Tesla y Waymo lideran este campo, aunque aún existen desafíos técnicos y regulatorios. \n",
    "Sin embargo, la IA también plantea preocupaciones, como la pérdida de empleos debido a la automatización y los riesgos asociados con la privacidad de los datos.\n",
    "\n",
    "Además, la ética en la IA es un tema crucial. Los sistemas de IA pueden perpetuar sesgos si no se diseñan adecuadamente, lo que podría llevar a decisiones injustas en áreas como la contratación o los préstamos. \n",
    "Por ello, es esencial que los desarrolladores y reguladores trabajen juntos para garantizar que la IA se utilice de manera responsable y equitativa.\n",
    "\"\"\"\n",
    "\n",
    "resultado = summarizer(texto)\n",
    "\n",
    "print(resultado)"
   ]
  },
  {
   "cell_type": "code",
   "execution_count": 21,
   "id": "a15934b4-ba48-4b8b-a785-635d0befbccf",
   "metadata": {},
   "outputs": [],
   "source": [
    "#Traducción de texto"
   ]
  },
  {
   "cell_type": "code",
   "execution_count": 51,
   "id": "02a1d320-28d0-4b13-8042-437f208a4e26",
   "metadata": {},
   "outputs": [
    {
     "name": "stderr",
     "output_type": "stream",
     "text": [
      "Device set to use cpu\n"
     ]
    },
    {
     "name": "stdout",
     "output_type": "stream",
     "text": [
      "[{'translation_text': 'This course is produced by Hugging Face.'}]\n"
     ]
    }
   ],
   "source": [
    "\n",
    "translator = pipeline(\"translation\", model=\"Helsinki-NLP/opus-mt-es-en\")\n",
    "\n",
    "resultado = translator(\"Este curso es producido por Hugging Face.\")\n",
    "\n",
    "print(resultado)"
   ]
  },
  {
   "cell_type": "code",
   "execution_count": 52,
   "id": "26f69a65-3d7e-4058-b5d8-7eade9db7beb",
   "metadata": {},
   "outputs": [
    {
     "name": "stdout",
     "output_type": "stream",
     "text": [
      "[{'translation_text': 'The convolutional neural network is used in image processing.'}]\n"
     ]
    }
   ],
   "source": [
    "resultado = translator(\"La red neuronal convolucional es utilizada en el procesamiento de imágenes.\")\n",
    "print(resultado)"
   ]
  },
  {
   "cell_type": "code",
   "execution_count": 53,
   "id": "270084a4-9cf0-4962-9cc3-f4147461e7a7",
   "metadata": {},
   "outputs": [
    {
     "name": "stdout",
     "output_type": "stream",
     "text": [
      "[{'translation_text': 'Being in the clouds.'}]\n"
     ]
    }
   ],
   "source": [
    "resultado = translator(\"Estar en las nubes.\")\n",
    "print(resultado)"
   ]
  },
  {
   "cell_type": "code",
   "execution_count": 54,
   "id": "8eb9b74f-18f8-42c8-b70e-7edf981e770b",
   "metadata": {},
   "outputs": [
    {
     "name": "stdout",
     "output_type": "stream",
     "text": [
      "[{'translation_text': 'Climate change is a global problem that requires the cooperation of all countries to be resolved.'}]\n"
     ]
    }
   ],
   "source": [
    "resultado = translator(\"El cambio climático es un problema global que requiere la cooperación de todos los países para ser resuelto.\")\n",
    "print(resultado)"
   ]
  },
  {
   "cell_type": "code",
   "execution_count": null,
   "id": "6fe8b54a-ec28-41d6-93e5-bf1239509ba4",
   "metadata": {},
   "outputs": [],
   "source": []
  }
 ],
 "metadata": {
  "kernelspec": {
   "display_name": "Python 3 (ipykernel)",
   "language": "python",
   "name": "python3"
  },
  "language_info": {
   "codemirror_mode": {
    "name": "ipython",
    "version": 3
   },
   "file_extension": ".py",
   "mimetype": "text/x-python",
   "name": "python",
   "nbconvert_exporter": "python",
   "pygments_lexer": "ipython3",
   "version": "3.12.3"
  }
 },
 "nbformat": 4,
 "nbformat_minor": 5
}
